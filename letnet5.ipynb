{
 "cells": [
  {
   "cell_type": "markdown",
   "metadata": {},
   "source": [
    "## LENET5 \n",
    "Basico modelo de rede neural convolucional."
   ]
  },
  {
   "cell_type": "markdown",
   "metadata": {},
   "source": [
    "Baixar os dados de treinamento da rede. Iremos usar o CIFAR-10 dataset, que é um dataset de imagens de 32x32 pixels divididas em 10 classes."
   ]
  },
  {
   "cell_type": "code",
   "execution_count": null,
   "metadata": {},
   "outputs": [],
   "source": [
    "import torch\n",
    "from torch import nn, optim\n",
    "from torch.nn import functional as F\n",
    "from torchvision import datasets, transforms\n",
    "from torchvision.transforms.functional import to_pil_image\n",
    "\n",
    "import PIL \n",
    "import matplotlib.pyplot as plt\n",
    "import numpy as np\n",
    "import pandas as pd\n",
    "\n",
    "from sklearn.metrics import accuracy_score\n",
    "from datetime import date"
   ]
  },
  {
   "cell_type": "markdown",
   "metadata": {},
   "source": [
    "# Codigos auxiliares\n"
   ]
  },
  {
   "cell_type": "code",
   "execution_count": null,
   "metadata": {},
   "outputs": [],
   "source": [
    "def plotar_convolucoes(linhas, colunas, tensor, pixels, dim=(5,5)):\n",
    "  fig, ax = plt.subplots(linhas, colunas, figsize=dim)\n",
    "  for linha in range(linhas):\n",
    "    for coluna in range(colunas):\n",
    "      i = (linha * linhas) + coluna\n",
    "      tmp = tensor[0,i,:,:].view(1,pixels,pixels).detach()\n",
    "      tmp = to_pil_image(tmp)#.resize((200,200))\n",
    "      ax[linha, coluna].imshow(np.asarray(tmp))\n",
    "      ax[linha, coluna].set(xticklabels=[], yticklabels=[], xticks=[], yticks=[])\n",
    "\n",
    "  plt.tight_layout()"
   ]
  },
  {
   "cell_type": "markdown",
   "metadata": {},
   "source": [
    "# Dados"
   ]
  },
  {
   "cell_type": "code",
   "execution_count": null,
   "metadata": {},
   "outputs": [],
   "source": [
    "converte_tensor = transforms.Compose([transforms.ToTensor()])"
   ]
  },
  {
   "cell_type": "code",
   "execution_count": null,
   "metadata": {},
   "outputs": [],
   "source": [
    "diretorio = \".\"\n",
    "\n",
    "treino = datasets.CIFAR10(diretorio, train=True, download=True, transform = converte_tensor)\n",
    "\n",
    "teste = datasets.CIFAR10(diretorio, train=False, download=True, transform = converte_tensor)"
   ]
  },
  {
   "cell_type": "markdown",
   "metadata": {},
   "source": [
    "# DataLoader"
   ]
  },
  {
   "cell_type": "code",
   "execution_count": null,
   "metadata": {},
   "outputs": [],
   "source": [
    "lote = 64\n",
    "\n",
    "treino_loader = torch.utils.data.DataLoader(treino, batch_size = lote)\n",
    "\n",
    "teste_loader = torch.utils.data.DataLoader(teste, batch_size = lote)"
   ]
  },
  {
   "cell_type": "code",
   "execution_count": null,
   "metadata": {},
   "outputs": [],
   "source": [
    "import os\n",
    "path = os.getcwd()\n",
    "DIRETORIO_PADRAO = path + \"/modelos/\"\n"
   ]
  },
  {
   "cell_type": "markdown",
   "metadata": {},
   "source": [
    "## Loop de treinamento"
   ]
  },
  {
   "cell_type": "code",
   "execution_count": null,
   "metadata": {},
   "outputs": [],
   "source": [
    "from tqdm import tqdm\n",
    "\n",
    "def treinar(treino_ldr, teste_ldr, modelo, **kwargs):\n",
    "\n",
    "  DISPOSITIVO_EXECUCAO = 'cuda' if torch.cuda.is_available() else 'cpu'\n",
    "\n",
    "  modelo.to(DISPOSITIVO_EXECUCAO)\n",
    "\n",
    "  tx_aprendizado = kwargs.get('tx_aprendizado', 0.0001)\n",
    "  otimizador = kwargs.get('opt', optim.Adadelta(modelo.parameters(), lr=tx_aprendizado, weight_decay=0.0005))\n",
    "  custo = kwargs.get('custo', F.nll_loss)\n",
    "  epocas = kwargs.get('epocas', 10)\n",
    "  nao_imprimir = kwargs.get('nao_imprimir', True)\n",
    "\n",
    "  arquivo_checkpoint = kwargs.get('arquivo_checkpoint', DIRETORIO_PADRAO + 'modelo.pt')\n",
    "\n",
    "  curva_treino = []\n",
    "  curva_teste = []\n",
    "\n",
    "  acc_treino = [0]\n",
    "  acc_teste = [0]\n",
    "\n",
    "  barra_progresso = tqdm(range(epocas))\n",
    "\n",
    "  for epoca in barra_progresso:\n",
    "\n",
    "    posfixo_barra = 'Acurácia Treino: {} Teste: {}'.format(round(acc_treino[-1], 2), round(acc_teste[-1]),2)\n",
    "\n",
    "    if epoca % 5 == 0:\n",
    "      torch.save(modelo.state_dict(), arquivo_checkpoint)\n",
    "      posfixo_barra = posfixo_barra + ' Checkpoint!'\n",
    "\n",
    "    barra_progresso.set_postfix_str(posfixo_barra)\n",
    "\n",
    "\n",
    "    ##################\n",
    "    # TREINO\n",
    "    ##################\n",
    "\n",
    "    modelo.train()              # Habilita o treinamento do modelo\n",
    "\n",
    "    acc = []\n",
    "    erros = []\n",
    "    for imagem, classe in treino_ldr:\n",
    "\n",
    "      imagem = imagem.to(DISPOSITIVO_EXECUCAO)\n",
    "      classe = classe.to(DISPOSITIVO_EXECUCAO)\n",
    "\n",
    "      otimizador.zero_grad()\n",
    "      predicao = modelo.forward(imagem)\n",
    "      erro = custo(predicao, classe)\n",
    "      erro.backward()\n",
    "      otimizador.step()\n",
    "\n",
    "      # Grava as métricas de avaliação\n",
    "      erros.append(erro.cpu().item())\n",
    "      preds = torch.argmax(predicao, dim=1).cpu().numpy()      # Transforma a codificação One-Hot-Encode em um número de classe\n",
    "      classes = classe.cpu().tolist()\n",
    "      acc.append(accuracy_score(classes, preds))\n",
    "\n",
    "    # Salva o valor médio das métricas de avaliação para o lote\n",
    "    acc_treino.append(np.mean(acc))\n",
    "    curva_treino.append(np.mean(erros))\n",
    "\n",
    "\n",
    "    ##################\n",
    "    # VALIDAÇÃO\n",
    "    ##################\n",
    "\n",
    "    modelo.eval()               # Desabilita a atualização dos parâmetros\n",
    "\n",
    "    acc = []\n",
    "    erros = []\n",
    "    with torch.no_grad():\n",
    "      for imagem, classe in teste_ldr:\n",
    "        imagem = imagem.to(DISPOSITIVO_EXECUCAO)\n",
    "        classe = classe.to(DISPOSITIVO_EXECUCAO)\n",
    "        predicao_val = modelo.forward(imagem)\n",
    "        erro_val = custo(predicao_val, classe)\n",
    "\n",
    "        # Grava as métricas de avaliação\n",
    "        erros.append(erro_val.cpu().item())\n",
    "        preds = torch.argmax(predicao_val, dim=1).cpu().numpy()      # Transforma a codificação One-Hot-Encode em um número de classe\n",
    "        classes = classe.cpu().tolist()\n",
    "        acc.append(accuracy_score(classes, preds))\n",
    "\n",
    "      # Salva o valor médio das métricas de avaliação para o lote\n",
    "      acc_teste.append(np.mean(acc))\n",
    "      curva_teste.append(np.mean(erros))\n",
    "\n",
    "\n",
    "  torch.save(modelo.state_dict(), arquivo_checkpoint)\n",
    "\n",
    "  return curva_treino, curva_teste, acc_treino, acc_teste\n"
   ]
  },
  {
   "cell_type": "markdown",
   "metadata": {},
   "source": [
    "Criando o modelo LENET5"
   ]
  },
  {
   "cell_type": "code",
   "execution_count": 62,
   "metadata": {},
   "outputs": [
    {
     "data": {
      "text/plain": [
       "torch.Size([1, 10])"
      ]
     },
     "execution_count": 62,
     "metadata": {},
     "output_type": "execute_result"
    }
   ],
   "source": [
    "arquivo = DIRETORIO_PADRAO + 'lenet-modular{}.pt'.format(date.today())\n",
    "\n",
    "class Lenet5Modular(nn.Module):\n",
    "  def __init__(self):\n",
    "    super(Lenet5Modular,self).__init__()\n",
    "\n",
    "    self.conv1 = nn.Sequential(\n",
    "        nn.Conv2d(in_channels=3,out_channels=6,kernel_size=(5,5),stride=(1,1)),\n",
    "        nn.Tanh(),\n",
    "        nn.AvgPool2d(kernel_size=(2,2),stride=(2,2))\n",
    "    )\n",
    "\n",
    "    self.conv2 = nn.Sequential(\n",
    "        nn.Conv2d(in_channels=6,out_channels=16,kernel_size=(5,5),stride=(1,1)),\n",
    "        nn.Tanh(),\n",
    "        nn.AvgPool2d(kernel_size=(2,2),stride=(2,2))\n",
    "    )\n",
    "\n",
    "    self.conv3 = nn.Sequential(\n",
    "        nn.Conv2d(in_channels=16,out_channels=120,kernel_size=(5,5),stride=(1,1)),\n",
    "        nn.Tanh()\n",
    "    )\n",
    "\n",
    "    self.flat = nn.Flatten()\n",
    "\n",
    "    self.linear1 = nn.Sequential(\n",
    "        nn.Linear(120,84),\n",
    "        nn.Tanh()\n",
    "    )\n",
    "\n",
    "    self.linear2 = nn.Linear(84,10)\n",
    "\n",
    "  def forward(self,x):\n",
    "    x = self.conv1(x)\n",
    "    x = self.conv2(x)\n",
    "    x = self.conv3(x)\n",
    "    x = self.flat(x)\n",
    "    x = self.linear1(x)\n",
    "    x = self.linear2(x)\n",
    "\n",
    "    return x\n",
    "\n",
    "\n",
    "modelo = Lenet5Modular()\n",
    "\n",
    "# modelo.load_state_dict(torch.load(arquivo))\n",
    "\n",
    "modelo.cpu()\n",
    "\n",
    "a = torch.rand(1, 3, 32, 32)\n",
    "\n",
    "b = modelo(a)\n",
    "\n",
    "b.size()"
   ]
  },
  {
   "cell_type": "markdown",
   "metadata": {},
   "source": [
    "## treinar modelo "
   ]
  },
  {
   "cell_type": "code",
   "execution_count": null,
   "metadata": {},
   "outputs": [],
   "source": [
    "\n",
    "# modelo.load_state_dict(torch.load(arquivo))\n",
    "\n",
    "tr, val, atr, aval = treinar(treino_loader, teste_loader, modelo, epocas=200,\n",
    "                                 opt = optim.SGD(modelo.parameters(), lr=0.01),\n",
    "                                 custo=nn.CrossEntropyLoss(),\n",
    "                                 arquivo_checkpoint=arquivo, nao_imprimir=True)\n",
    "\n",
    "\n",
    "fig, ax = plt.subplots(1, 2, figsize=(10,5))\n",
    "\n",
    "ax[0].plot(tr, color='blue', label='Treino')\n",
    "ax[0].plot(val, color='red', label='Validação')\n",
    "ax[0].set_title(\"Loss\")\n",
    "\n",
    "ax[1].plot(atr, color='blue', label='Treino')\n",
    "ax[1].plot(aval, color='red', label='Validação')\n",
    "ax[1].set_title(\"Accuracy\")\n",
    "\n",
    "plt.legend()"
   ]
  },
  {
   "cell_type": "markdown",
   "metadata": {},
   "source": [
    "# Visualizaçao do mapa de Características"
   ]
  },
  {
   "cell_type": "code",
   "execution_count": 52,
   "metadata": {},
   "outputs": [
    {
     "data": {
      "text/plain": [
       "<All keys matched successfully>"
      ]
     },
     "execution_count": 52,
     "metadata": {},
     "output_type": "execute_result"
    }
   ],
   "source": [
    "modelo.load_state_dict(torch.load(arquivo))"
   ]
  },
  {
   "cell_type": "code",
   "execution_count": 53,
   "metadata": {},
   "outputs": [
    {
     "data": {
      "image/jpeg": "[encoded data removed]",
      "image/png": "[encoded data removed]",
      "text/plain": [
       "<PIL.Image.Image image mode=RGB size=150x150>"
      ]
     },
     "execution_count": 53,
     "metadata": {},
     "output_type": "execute_result"
    }
   ],
   "source": [
    "img, classe = teste[130]\n",
    "\n",
    "to_pil_image(img).resize((150,150))"
   ]
  },
  {
   "cell_type": "code",
   "execution_count": 54,
   "metadata": {},
   "outputs": [
    {
     "data": {
      "text/plain": [
       "torch.Size([1, 6, 14, 14])"
      ]
     },
     "execution_count": 54,
     "metadata": {},
     "output_type": "execute_result"
    }
   ],
   "source": [
    "img = img.view(1,3,32,32)\n",
    "cv1 = modelo.conv1(img)\n",
    "cv1.size()"
   ]
  },
  {
   "cell_type": "code",
   "execution_count": 55,
   "metadata": {},
   "outputs": [
    {
     "data": {
      "image/png": "[encoded data removed]",
      "text/plain": [
       "<Figure size 500x500 with 6 Axes>"
      ]
     },
     "metadata": {},
     "output_type": "display_data"
    }
   ],
   "source": [
    "plotar_convolucoes(2, 3, cv1, 14)"
   ]
  },
  {
   "cell_type": "code",
   "execution_count": 56,
   "metadata": {},
   "outputs": [
    {
     "data": {
      "text/plain": [
       "torch.Size([1, 16, 5, 5])"
      ]
     },
     "execution_count": 56,
     "metadata": {},
     "output_type": "execute_result"
    }
   ],
   "source": [
    "cv2 = modelo.conv2(cv1)\n",
    "cv2.size()"
   ]
  },
  {
   "cell_type": "code",
   "execution_count": 57,
   "metadata": {},
   "outputs": [
    {
     "data": {
      "image/png": "[encoded data removed]",
      "text/plain": [
       "<Figure size 500x500 with 16 Axes>"
      ]
     },
     "metadata": {},
     "output_type": "display_data"
    }
   ],
   "source": [
    "plotar_convolucoes(4, 4, cv2, 5)"
   ]
  },
  {
   "cell_type": "code",
   "execution_count": 58,
   "metadata": {},
   "outputs": [],
   "source": [
    "# Predict da imagem\n",
    "predicao = modelo(img)\n",
    "\n",
    "# Nome da classe \n",
    "classe = torch.argmax(predicao).item()"
   ]
  },
  {
   "cell_type": "code",
   "execution_count": 59,
   "metadata": {},
   "outputs": [
    {
     "data": {
      "text/plain": [
       "'Cervo'"
      ]
     },
     "execution_count": 59,
     "metadata": {},
     "output_type": "execute_result"
    }
   ],
   "source": [
    "# dicionario das classes \n",
    "classes = {0: 'Avião', 1: 'Carro', 2: 'Pássaro', 3: 'Gato', 4: 'Cervo', 5: 'Cachorro', 6: 'Sapo', 7: 'Cavalo', 8: 'Navio', 9: 'Caminhão'}\n",
    "\n",
    "# Nome da classe\n",
    "classes[classe]"
   ]
  },
  {
   "cell_type": "code",
   "execution_count": null,
   "metadata": {},
   "outputs": [],
   "source": [
    "predicao"
   ]
  },
  {
   "cell_type": "code",
   "execution_count": 64,
   "metadata": {},
   "outputs": [
    {
     "name": "stderr",
     "output_type": "stream",
     "text": [
      "c:\\Users\\hudso\\AI\\DL\\lenet5\\env\\lib\\site-packages\\tqdm\\auto.py:21: TqdmWarning: IProgress not found. Please update jupyter and ipywidgets. See https://ipywidgets.readthedocs.io/en/stable/user_install.html\n",
      "  from .autonotebook import tqdm as notebook_tqdm\n"
     ]
    },
    {
     "data": {
      "text/plain": [
       "<All keys matched successfully>"
      ]
     },
     "execution_count": 64,
     "metadata": {},
     "output_type": "execute_result"
    }
   ],
   "source": [
    "import gradio as gr\n",
    "\n",
    "\n",
    "model = Lenet5Modular()\n",
    "\n",
    "model.load_state_dict(torch.load(arquivo))"
   ]
  },
  {
   "cell_type": "code",
   "execution_count": 71,
   "metadata": {},
   "outputs": [],
   "source": [
    "# Função para criar o transformador\n",
    "def create_transformer():\n",
    "    return transforms.Compose([\n",
    "        transforms.Resize((32, 32)),  # Redimensionar para 32x32\n",
    "        transforms.RandomHorizontalFlip(),\n",
    "        transforms.RandomRotation(10),\n",
    "        transforms.RandomAffine(0, shear=10, scale=(0.8,1.2)),\n",
    "        transforms.ColorJitter(brightness=0.2, contrast=0.2, saturation=0.2),\n",
    "        transforms.ToTensor()\n",
    "    ])"
   ]
  },
  {
   "cell_type": "code",
   "execution_count": 75,
   "metadata": {},
   "outputs": [
    {
     "name": "stdout",
     "output_type": "stream",
     "text": [
      "Running on local URL:  http://127.0.0.1:7869\n",
      "\n",
      "To create a public link, set `share=True` in `launch()`.\n"
     ]
    },
    {
     "data": {
      "text/html": [
       "<div><iframe src=\"http://127.0.0.1:7869/\" width=\"100%\" height=\"500\" allow=\"autoplay; camera; microphone; clipboard-read; clipboard-write;\" frameborder=\"0\" allowfullscreen></iframe></div>"
      ],
      "text/plain": [
       "<IPython.core.display.HTML object>"
      ]
     },
     "metadata": {},
     "output_type": "display_data"
    },
    {
     "data": {
      "text/plain": []
     },
     "execution_count": 75,
     "metadata": {},
     "output_type": "execute_result"
    }
   ],
   "source": [
    "# Função de classificação de imagem\n",
    "def classifier_image(image):\n",
    "    preprocess = create_transformer()\n",
    "\n",
    "    # Converter a imagem para PIL se não estiver neste formato\n",
    "    if isinstance(image, np.ndarray):\n",
    "        image = Image.fromarray(image.astype('uint8'), 'RGB')\n",
    "    # Redimensionar a imagem para 32x32\n",
    "    image = image.resize((32, 32))\n",
    "    image_tensor = preprocess(image)\n",
    "    image_tensor = image_tensor.unsqueeze(0)\n",
    "\n",
    "    # Realizar a predição\n",
    "    with torch.no_grad():\n",
    "        output = model(image_tensor)\n",
    "    _, predicted_class = torch.max(output, 1)\n",
    "\n",
    "    return f\"{str(classes[predicted_class.item()])}\"\n",
    "\n",
    "# Interface Gradio\n",
    "gr.Interface(fn=classifier_image, inputs=\"image\", outputs=\"text\").launch()"
   ]
  },
  {
   "cell_type": "code",
   "execution_count": null,
   "metadata": {},
   "outputs": [],
   "source": []
  },
  {
   "cell_type": "code",
   "execution_count": null,
   "metadata": {},
   "outputs": [],
   "source": []
  }
 ],
 "metadata": {
  "kernelspec": {
   "display_name": "env",
   "language": "python",
   "name": "python3"
  },
  "language_info": {
   "codemirror_mode": {
    "name": "ipython",
    "version": 3
   },
   "file_extension": ".py",
   "mimetype": "text/x-python",
   "name": "python",
   "nbconvert_exporter": "python",
   "pygments_lexer": "ipython3",
   "version": "3.10.6"
  }
 },
 "nbformat": 4,
 "nbformat_minor": 2
}
